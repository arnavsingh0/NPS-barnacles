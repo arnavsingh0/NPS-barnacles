{
 "cells": [
  {
   "cell_type": "markdown",
   "metadata": {},
   "source": [
    "# Barnacles\n",
    "## Author: Arnav Singh\n",
    "\n",
    "## Abstract\n",
    "\n",
    "This notebook documents the process of developing a system to help scientists count barnacles in images more efficiently. The approach involves data preprocessing, exploration with basic models, and an attempt to implement a Vision Transformer (ViT) for improved accuracy.\n",
    "\n",
    "---\n",
    "\n",
    "## Table of Contents\n",
    "\n",
    "1. [Introduction](#introduction)\n",
    "2. [Data Loading and Preprocessing](#data-loading-and-preprocessing)\n",
    "3. [Exploratory Data Analysis (EDA)](#exploratory-data-analysis-eda)\n",
    "4. [Basic Model Exploration](#basic-model-exploration)\n",
    "5. [Vision Transformer (ViT) Implementation](#vision-transformer-vit-implementation)\n",
    "6. [Results and Analysis](#results-and-analysis)\n",
    "7. [Conclusions](#conclusions)\n",
    "8. [Learning and Next Steps](#learning-and-next-steps)\n",
    "\n",
    "---\n",
    "\n",
    "## Introduction\n",
    "\n",
    "The goal is to automate the counting of barnacles within a fixed-size frame in images. This involves preprocessing the images, exploring basic models, and implementing a more advanced model like ViT to achieve higher accuracy."
   ]
  },
  {
   "cell_type": "markdown",
   "metadata": {},
   "source": [
    "## Data Loading and Preprocessing"
   ]
  },
  {
   "cell_type": "code",
   "execution_count": null,
   "metadata": {},
   "outputs": [],
   "source": [
    "# Importing the necessasry libraries, make sure they are correctly installed if running the code on your local machine\n",
    "import numpy as np\n",
    "import pandas as pd\n",
    "import cv2\n",
    "import matplotlib.pyplot as plt\n",
    "from sklearn.model_selection import train_test_split\n",
    "from tensorflow.keras import layers, models\n",
    "import tensorflow as tf"
   ]
  },
  {
   "cell_type": "markdown",
   "metadata": {},
   "source": [
    "### Load Images and Masks\n",
    "Next we load the images, and the masks for the data"
   ]
  },
  {
   "cell_type": "code",
   "execution_count": null,
   "metadata": {},
   "outputs": [],
   "source": [
    "# Load images and masks\n",
    "img1 = cv2.imread('Barnacles/img1.png')\n",
    "mask1 = cv2.imread('Barnacles/mask1.png', 0)\n",
    "img2 = cv2.imread('Barnacles/img2.png')\n",
    "mask2 = cv2.imread('Barnacles/mask2.png', 0)"
   ]
  }
 ],
 "metadata": {
  "language_info": {
   "name": "python"
  }
 },
 "nbformat": 4,
 "nbformat_minor": 2
}
